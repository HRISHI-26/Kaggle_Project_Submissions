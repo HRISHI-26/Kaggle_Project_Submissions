{
 "cells": [
  {
   "cell_type": "markdown",
   "id": "6532a7b8",
   "metadata": {
    "papermill": {
     "duration": 0.004041,
     "end_time": "2025-06-27T05:45:42.233391",
     "exception": false,
     "start_time": "2025-06-27T05:45:42.229350",
     "status": "completed"
    },
    "tags": []
   },
   "source": [
    "**This notebook is an exercise in the [Python](https://www.kaggle.com/learn/python) course.  You can reference the tutorial at [this link](https://www.kaggle.com/colinmorris/lists).**\n",
    "\n",
    "---\n"
   ]
  },
  {
   "cell_type": "markdown",
   "id": "adb97d9c",
   "metadata": {
    "papermill": {
     "duration": 0.002997,
     "end_time": "2025-06-27T05:45:42.239832",
     "exception": false,
     "start_time": "2025-06-27T05:45:42.236835",
     "status": "completed"
    },
    "tags": []
   },
   "source": [
    "Things get more interesting with lists. You'll apply your new knowledge to solve the questions below. Remember to run the following cell first."
   ]
  },
  {
   "cell_type": "code",
   "execution_count": 1,
   "id": "bc832b59",
   "metadata": {
    "execution": {
     "iopub.execute_input": "2025-06-27T05:45:42.247616Z",
     "iopub.status.busy": "2025-06-27T05:45:42.247265Z",
     "iopub.status.idle": "2025-06-27T05:45:43.914312Z",
     "shell.execute_reply": "2025-06-27T05:45:43.913431Z"
    },
    "papermill": {
     "duration": 1.672911,
     "end_time": "2025-06-27T05:45:43.915968",
     "exception": false,
     "start_time": "2025-06-27T05:45:42.243057",
     "status": "completed"
    },
    "tags": []
   },
   "outputs": [
    {
     "name": "stdout",
     "output_type": "stream",
     "text": [
      "Setup complete.\n"
     ]
    }
   ],
   "source": [
    "from learntools.core import binder; binder.bind(globals())\n",
    "from learntools.python.ex4 import *\n",
    "print('Setup complete.')"
   ]
  },
  {
   "cell_type": "markdown",
   "id": "78b33e3b",
   "metadata": {
    "papermill": {
     "duration": 0.00315,
     "end_time": "2025-06-27T05:45:43.922668",
     "exception": false,
     "start_time": "2025-06-27T05:45:43.919518",
     "status": "completed"
    },
    "tags": []
   },
   "source": [
    "# 1.\n",
    "\n",
    "Complete the function below according to its docstring."
   ]
  },
  {
   "cell_type": "code",
   "execution_count": 2,
   "id": "41388335",
   "metadata": {
    "execution": {
     "iopub.execute_input": "2025-06-27T05:45:43.930778Z",
     "iopub.status.busy": "2025-06-27T05:45:43.929978Z",
     "iopub.status.idle": "2025-06-27T05:45:43.938208Z",
     "shell.execute_reply": "2025-06-27T05:45:43.937528Z"
    },
    "papermill": {
     "duration": 0.013613,
     "end_time": "2025-06-27T05:45:43.939453",
     "exception": false,
     "start_time": "2025-06-27T05:45:43.925840",
     "status": "completed"
    },
    "tags": []
   },
   "outputs": [
    {
     "data": {
      "application/javascript": [
       "parent.postMessage({\"jupyterEvent\": \"custom.exercise_interaction\", \"data\": {\"outcomeType\": 1, \"valueTowardsCompletion\": 0.2, \"interactionType\": 1, \"questionType\": 2, \"questionId\": \"1_SelectSecondItem\", \"learnToolsVersion\": \"0.3.5\", \"failureMessage\": \"\", \"exceptionClass\": \"\", \"trace\": \"\"}}, \"*\")"
      ],
      "text/plain": [
       "<IPython.core.display.Javascript object>"
      ]
     },
     "metadata": {},
     "output_type": "display_data"
    },
    {
     "data": {
      "text/markdown": [
       "<span style=\"color:#33cc33\">Correct</span>"
      ],
      "text/plain": [
       "Correct"
      ]
     },
     "metadata": {},
     "output_type": "display_data"
    }
   ],
   "source": [
    "def select_second(L):\n",
    "    \"\"\"Return the second element of the given list. If the list has no second\n",
    "    element, return None.\n",
    "    \"\"\"\n",
    "    if len(L) > 1:\n",
    "        return L[1]\n",
    "    return None\n",
    "    # pass\n",
    "\n",
    "# Check your answer\n",
    "q1.check()"
   ]
  },
  {
   "cell_type": "code",
   "execution_count": 3,
   "id": "399ebdf9",
   "metadata": {
    "collapsed": true,
    "execution": {
     "iopub.execute_input": "2025-06-27T05:45:43.947705Z",
     "iopub.status.busy": "2025-06-27T05:45:43.947250Z",
     "iopub.status.idle": "2025-06-27T05:45:43.950687Z",
     "shell.execute_reply": "2025-06-27T05:45:43.950070Z"
    },
    "jupyter": {
     "outputs_hidden": true
    },
    "papermill": {
     "duration": 0.008873,
     "end_time": "2025-06-27T05:45:43.951865",
     "exception": false,
     "start_time": "2025-06-27T05:45:43.942992",
     "status": "completed"
    },
    "tags": []
   },
   "outputs": [],
   "source": [
    "#q1.hint()\n",
    "#q1.solution()"
   ]
  },
  {
   "cell_type": "markdown",
   "id": "dc391b70",
   "metadata": {
    "papermill": {
     "duration": 0.003215,
     "end_time": "2025-06-27T05:45:43.958609",
     "exception": false,
     "start_time": "2025-06-27T05:45:43.955394",
     "status": "completed"
    },
    "tags": []
   },
   "source": [
    "# 2.\n",
    "\n",
    "You are analyzing sports teams.  Members of each team are stored in a list. The Coach is the first name in the list, the captain is the second name in the list, and other players are listed after that. \n",
    "These lists are stored in another list, which starts with the best team and proceeds through the list to the worst team last.  Complete the function below to select the **captain** of the worst team."
   ]
  },
  {
   "cell_type": "code",
   "execution_count": 4,
   "id": "bcbb7bf2",
   "metadata": {
    "execution": {
     "iopub.execute_input": "2025-06-27T05:45:43.966927Z",
     "iopub.status.busy": "2025-06-27T05:45:43.966246Z",
     "iopub.status.idle": "2025-06-27T05:45:43.973060Z",
     "shell.execute_reply": "2025-06-27T05:45:43.972294Z"
    },
    "papermill": {
     "duration": 0.012397,
     "end_time": "2025-06-27T05:45:43.974398",
     "exception": false,
     "start_time": "2025-06-27T05:45:43.962001",
     "status": "completed"
    },
    "tags": []
   },
   "outputs": [
    {
     "data": {
      "application/javascript": [
       "parent.postMessage({\"jupyterEvent\": \"custom.exercise_interaction\", \"data\": {\"outcomeType\": 1, \"valueTowardsCompletion\": 0.2, \"interactionType\": 1, \"questionType\": 2, \"questionId\": \"2_LosingTeamCaptain\", \"learnToolsVersion\": \"0.3.5\", \"failureMessage\": \"\", \"exceptionClass\": \"\", \"trace\": \"\"}}, \"*\")"
      ],
      "text/plain": [
       "<IPython.core.display.Javascript object>"
      ]
     },
     "metadata": {},
     "output_type": "display_data"
    },
    {
     "data": {
      "text/markdown": [
       "<span style=\"color:#33cc33\">Correct</span>"
      ],
      "text/plain": [
       "Correct"
      ]
     },
     "metadata": {},
     "output_type": "display_data"
    }
   ],
   "source": [
    "def losing_team_captain(teams):\n",
    "    \"\"\"Given a list of teams, where each team is a list of names, return the 2nd player (captain)\n",
    "    from the last listed team\n",
    "    \"\"\"\n",
    "    for team in teams:\n",
    "        pass\n",
    "    return team[1]\n",
    "\n",
    "# Check your answer\n",
    "q2.check()"
   ]
  },
  {
   "cell_type": "code",
   "execution_count": 5,
   "id": "059ac293",
   "metadata": {
    "collapsed": true,
    "execution": {
     "iopub.execute_input": "2025-06-27T05:45:43.982782Z",
     "iopub.status.busy": "2025-06-27T05:45:43.982530Z",
     "iopub.status.idle": "2025-06-27T05:45:43.985789Z",
     "shell.execute_reply": "2025-06-27T05:45:43.985150Z"
    },
    "jupyter": {
     "outputs_hidden": true
    },
    "papermill": {
     "duration": 0.00879,
     "end_time": "2025-06-27T05:45:43.986978",
     "exception": false,
     "start_time": "2025-06-27T05:45:43.978188",
     "status": "completed"
    },
    "tags": []
   },
   "outputs": [],
   "source": [
    "#q2.hint()\n",
    "#q2.solution()"
   ]
  },
  {
   "cell_type": "markdown",
   "id": "531134d7",
   "metadata": {
    "papermill": {
     "duration": 0.003437,
     "end_time": "2025-06-27T05:45:43.994253",
     "exception": false,
     "start_time": "2025-06-27T05:45:43.990816",
     "status": "completed"
    },
    "tags": []
   },
   "source": [
    "# 3.\n",
    "\n",
    "The next iteration of Mario Kart will feature an extra-infuriating new item, the *Purple Shell*. When used, it warps the last place racer into first place and the first place racer into last place. Complete the function below to implement the Purple Shell's effect."
   ]
  },
  {
   "cell_type": "code",
   "execution_count": 6,
   "id": "e4571cb7",
   "metadata": {
    "execution": {
     "iopub.execute_input": "2025-06-27T05:45:44.002468Z",
     "iopub.status.busy": "2025-06-27T05:45:44.002194Z",
     "iopub.status.idle": "2025-06-27T05:45:44.009349Z",
     "shell.execute_reply": "2025-06-27T05:45:44.008693Z"
    },
    "papermill": {
     "duration": 0.012758,
     "end_time": "2025-06-27T05:45:44.010520",
     "exception": false,
     "start_time": "2025-06-27T05:45:43.997762",
     "status": "completed"
    },
    "tags": []
   },
   "outputs": [
    {
     "data": {
      "application/javascript": [
       "parent.postMessage({\"jupyterEvent\": \"custom.exercise_interaction\", \"data\": {\"outcomeType\": 1, \"valueTowardsCompletion\": 0.2, \"interactionType\": 1, \"questionType\": 2, \"questionId\": \"3_PurpleShell\", \"learnToolsVersion\": \"0.3.5\", \"failureMessage\": \"\", \"exceptionClass\": \"\", \"trace\": \"\"}}, \"*\")"
      ],
      "text/plain": [
       "<IPython.core.display.Javascript object>"
      ]
     },
     "metadata": {},
     "output_type": "display_data"
    },
    {
     "data": {
      "text/markdown": [
       "<span style=\"color:#33cc33\">Correct</span>"
      ],
      "text/plain": [
       "Correct"
      ]
     },
     "metadata": {},
     "output_type": "display_data"
    }
   ],
   "source": [
    "def purple_shell(racers):\n",
    "    \"\"\"Given a list of racers, set the first place racer (at the front of the list) to last\n",
    "    place and vice versa.\n",
    "    \n",
    "    >>> r = [\"Mario\", \"Bowser\", \"Luigi\"]\n",
    "    >>> purple_shell(r)\n",
    "    >>> r\n",
    "    [\"Luigi\", \"Bowser\", \"Mario\"]\n",
    "    \"\"\"\n",
    "    # pass\n",
    "    temp = racers[0]\n",
    "    racers[0] = racers[-1]\n",
    "    racers[-1] = temp\n",
    "    \n",
    "\n",
    "# Check your answer\n",
    "q3.check()"
   ]
  },
  {
   "cell_type": "code",
   "execution_count": 7,
   "id": "b09b7239",
   "metadata": {
    "collapsed": true,
    "execution": {
     "iopub.execute_input": "2025-06-27T05:45:44.019193Z",
     "iopub.status.busy": "2025-06-27T05:45:44.018754Z",
     "iopub.status.idle": "2025-06-27T05:45:44.022132Z",
     "shell.execute_reply": "2025-06-27T05:45:44.021462Z"
    },
    "jupyter": {
     "outputs_hidden": true
    },
    "papermill": {
     "duration": 0.009061,
     "end_time": "2025-06-27T05:45:44.023436",
     "exception": false,
     "start_time": "2025-06-27T05:45:44.014375",
     "status": "completed"
    },
    "tags": []
   },
   "outputs": [],
   "source": [
    "#q3.hint()\n",
    "#q3.solution()"
   ]
  },
  {
   "cell_type": "markdown",
   "id": "e3d946ff",
   "metadata": {
    "papermill": {
     "duration": 0.003544,
     "end_time": "2025-06-27T05:45:44.030828",
     "exception": false,
     "start_time": "2025-06-27T05:45:44.027284",
     "status": "completed"
    },
    "tags": []
   },
   "source": [
    "# 4.\n",
    "\n",
    "What are the lengths of the following lists? Fill in the variable `lengths` with your predictions. (Try to make a prediction for each list *without* just calling `len()` on it.)"
   ]
  },
  {
   "cell_type": "code",
   "execution_count": 8,
   "id": "9243edc8",
   "metadata": {
    "execution": {
     "iopub.execute_input": "2025-06-27T05:45:44.039578Z",
     "iopub.status.busy": "2025-06-27T05:45:44.038992Z",
     "iopub.status.idle": "2025-06-27T05:45:44.047077Z",
     "shell.execute_reply": "2025-06-27T05:45:44.046300Z"
    },
    "papermill": {
     "duration": 0.013727,
     "end_time": "2025-06-27T05:45:44.048298",
     "exception": false,
     "start_time": "2025-06-27T05:45:44.034571",
     "status": "completed"
    },
    "tags": []
   },
   "outputs": [
    {
     "data": {
      "application/javascript": [
       "parent.postMessage({\"jupyterEvent\": \"custom.exercise_interaction\", \"data\": {\"outcomeType\": 1, \"valueTowardsCompletion\": 0.2, \"interactionType\": 1, \"questionType\": 1, \"questionId\": \"4_UnderstandLen\", \"learnToolsVersion\": \"0.3.5\", \"failureMessage\": \"\", \"exceptionClass\": \"\", \"trace\": \"\"}}, \"*\")"
      ],
      "text/plain": [
       "<IPython.core.display.Javascript object>"
      ]
     },
     "metadata": {},
     "output_type": "display_data"
    },
    {
     "data": {
      "text/markdown": [
       "<span style=\"color:#33cc33\">Correct:</span> \n",
       "\n",
       "\n",
       "- a: There are three items in this list. Nothing tricky yet.\n",
       "- b: The list `[2, 3]` counts as a single item. It has one item before it. So we have 2 items in the list\n",
       "- c: The empty list has 0 items\n",
       "- d: The expression is the same as the list `[2, 3]`, which has length 2."
      ],
      "text/plain": [
       "Correct: \n",
       "\n",
       "\n",
       "- a: There are three items in this list. Nothing tricky yet.\n",
       "- b: The list `[2, 3]` counts as a single item. It has one item before it. So we have 2 items in the list\n",
       "- c: The empty list has 0 items\n",
       "- d: The expression is the same as the list `[2, 3]`, which has length 2."
      ]
     },
     "metadata": {},
     "output_type": "display_data"
    }
   ],
   "source": [
    "a = [1, 2, 3]\n",
    "b = [1, [2, 3]]\n",
    "c = []\n",
    "d = [1, 2, 3][1:]\n",
    "\n",
    "# Put your predictions in the list below. Lengths should contain 4 numbers, the\n",
    "# first being the length of a, the second being the length of b and so on.\n",
    "lengths = [len(a), len(b), len(c), len(d)]\n",
    "\n",
    "# Check your answer\n",
    "q4.check()"
   ]
  },
  {
   "cell_type": "code",
   "execution_count": 9,
   "id": "ea201e3e",
   "metadata": {
    "collapsed": true,
    "execution": {
     "iopub.execute_input": "2025-06-27T05:45:44.057294Z",
     "iopub.status.busy": "2025-06-27T05:45:44.057040Z",
     "iopub.status.idle": "2025-06-27T05:45:44.060234Z",
     "shell.execute_reply": "2025-06-27T05:45:44.059610Z"
    },
    "jupyter": {
     "outputs_hidden": true
    },
    "papermill": {
     "duration": 0.009048,
     "end_time": "2025-06-27T05:45:44.061409",
     "exception": false,
     "start_time": "2025-06-27T05:45:44.052361",
     "status": "completed"
    },
    "tags": []
   },
   "outputs": [],
   "source": [
    "# line below provides some explanation\n",
    "#q4.solution()"
   ]
  },
  {
   "cell_type": "markdown",
   "id": "3cf45c81",
   "metadata": {
    "papermill": {
     "duration": 0.004441,
     "end_time": "2025-06-27T05:45:44.069934",
     "exception": false,
     "start_time": "2025-06-27T05:45:44.065493",
     "status": "completed"
    },
    "tags": []
   },
   "source": [
    "# 5. <span title=\"A bit spicy\" style=\"color: darkgreen \">🌶️</span>\n",
    "\n",
    "We're using lists to record people who attended our party and what order they arrived in. For example, the following list represents a party with 7 guests, in which Adela showed up first and Ford was the last to arrive:\n",
    "\n",
    "    party_attendees = ['Adela', 'Fleda', 'Owen', 'May', 'Mona', 'Gilbert', 'Ford']\n",
    "\n",
    "A guest is considered 'fashionably late' if they arrived after at least half of the party's guests. However, they must not be the very last guest (that's taking it too far). In the above example, Mona and Gilbert are the only guests who were fashionably late.\n",
    "\n",
    "Complete the function below which takes a list of party attendees as well as a person, and tells us whether that person is fashionably late."
   ]
  },
  {
   "cell_type": "code",
   "execution_count": 10,
   "id": "9bf6b37c",
   "metadata": {
    "execution": {
     "iopub.execute_input": "2025-06-27T05:45:44.079220Z",
     "iopub.status.busy": "2025-06-27T05:45:44.078580Z",
     "iopub.status.idle": "2025-06-27T05:45:44.085712Z",
     "shell.execute_reply": "2025-06-27T05:45:44.085055Z"
    },
    "papermill": {
     "duration": 0.013035,
     "end_time": "2025-06-27T05:45:44.086892",
     "exception": false,
     "start_time": "2025-06-27T05:45:44.073857",
     "status": "completed"
    },
    "tags": []
   },
   "outputs": [
    {
     "data": {
      "application/javascript": [
       "parent.postMessage({\"jupyterEvent\": \"custom.exercise_interaction\", \"data\": {\"outcomeType\": 1, \"valueTowardsCompletion\": 0.2, \"interactionType\": 1, \"questionType\": 2, \"questionId\": \"5_FashionablyLate\", \"learnToolsVersion\": \"0.3.5\", \"failureMessage\": \"\", \"exceptionClass\": \"\", \"trace\": \"\"}}, \"*\")"
      ],
      "text/plain": [
       "<IPython.core.display.Javascript object>"
      ]
     },
     "metadata": {},
     "output_type": "display_data"
    },
    {
     "data": {
      "text/markdown": [
       "<span style=\"color:#33cc33\">Correct</span>"
      ],
      "text/plain": [
       "Correct"
      ]
     },
     "metadata": {},
     "output_type": "display_data"
    }
   ],
   "source": [
    "def fashionably_late(arrivals, name):\n",
    "    \"\"\"Given an ordered list of arrivals to the party and a name, return whether the guest with that\n",
    "    name was fashionably late.\n",
    "    \"\"\"\n",
    "    order = arrivals.index(name)\n",
    "    return order >= len(arrivals) / 2 and order != len(arrivals) - 1\n",
    "        \n",
    "\n",
    "# Check your answer\n",
    "q5.check()"
   ]
  },
  {
   "cell_type": "code",
   "execution_count": 11,
   "id": "54fcbd59",
   "metadata": {
    "execution": {
     "iopub.execute_input": "2025-06-27T05:45:44.096727Z",
     "iopub.status.busy": "2025-06-27T05:45:44.096501Z",
     "iopub.status.idle": "2025-06-27T05:45:44.100041Z",
     "shell.execute_reply": "2025-06-27T05:45:44.099256Z"
    },
    "papermill": {
     "duration": 0.009749,
     "end_time": "2025-06-27T05:45:44.101291",
     "exception": false,
     "start_time": "2025-06-27T05:45:44.091542",
     "status": "completed"
    },
    "tags": []
   },
   "outputs": [],
   "source": [
    "#q5.hint()\n",
    "# q5.solution()"
   ]
  },
  {
   "cell_type": "markdown",
   "id": "442b8db1",
   "metadata": {
    "papermill": {
     "duration": 0.003899,
     "end_time": "2025-06-27T05:45:44.109439",
     "exception": false,
     "start_time": "2025-06-27T05:45:44.105540",
     "status": "completed"
    },
    "tags": []
   },
   "source": [
    "# Keep Going\n",
    "\n",
    "That's it for lists and tuples! Now you have the baseline knowledge to **[learn about loops](https://www.kaggle.com/colinmorris/loops-and-list-comprehensions)**, which is where lists and tuples get really interesting. "
   ]
  },
  {
   "cell_type": "markdown",
   "id": "1b8d0cfa",
   "metadata": {
    "papermill": {
     "duration": 0.003879,
     "end_time": "2025-06-27T05:45:44.117383",
     "exception": false,
     "start_time": "2025-06-27T05:45:44.113504",
     "status": "completed"
    },
    "tags": []
   },
   "source": [
    "---\n",
    "\n",
    "\n",
    "\n",
    "\n",
    "*Have questions or comments? Visit the [course discussion forum](https://www.kaggle.com/learn/python/discussion) to chat with other learners.*"
   ]
  }
 ],
 "metadata": {
  "kaggle": {
   "accelerator": "none",
   "dataSources": [],
   "isGpuEnabled": false,
   "isInternetEnabled": false,
   "language": "python",
   "sourceType": "notebook"
  },
  "kernelspec": {
   "display_name": "Python 3",
   "language": "python",
   "name": "python3"
  },
  "language_info": {
   "codemirror_mode": {
    "name": "ipython",
    "version": 3
   },
   "file_extension": ".py",
   "mimetype": "text/x-python",
   "name": "python",
   "nbconvert_exporter": "python",
   "pygments_lexer": "ipython3",
   "version": "3.11.11"
  },
  "learntools_metadata": {
   "lesson_index": 3,
   "type": "exercise"
  },
  "papermill": {
   "default_parameters": {},
   "duration": 6.679413,
   "end_time": "2025-06-27T05:45:44.538723",
   "environment_variables": {},
   "exception": null,
   "input_path": "__notebook__.ipynb",
   "output_path": "__notebook__.ipynb",
   "parameters": {},
   "start_time": "2025-06-27T05:45:37.859310",
   "version": "2.6.0"
  }
 },
 "nbformat": 4,
 "nbformat_minor": 5
}
