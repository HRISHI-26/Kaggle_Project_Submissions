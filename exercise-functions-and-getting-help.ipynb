{
 "cells": [
  {
   "cell_type": "markdown",
   "id": "2bccd272",
   "metadata": {
    "papermill": {
     "duration": 0.004825,
     "end_time": "2025-06-26T10:32:12.802535",
     "exception": false,
     "start_time": "2025-06-26T10:32:12.797710",
     "status": "completed"
    },
    "tags": []
   },
   "source": [
    "**This notebook is an exercise in the [Python](https://www.kaggle.com/learn/python) course.  You can reference the tutorial at [this link](https://www.kaggle.com/colinmorris/functions-and-getting-help).**\n",
    "\n",
    "---\n"
   ]
  },
  {
   "cell_type": "markdown",
   "id": "849a250c",
   "metadata": {
    "papermill": {
     "duration": 0.003444,
     "end_time": "2025-06-26T10:32:12.810169",
     "exception": false,
     "start_time": "2025-06-26T10:32:12.806725",
     "status": "completed"
    },
    "tags": []
   },
   "source": [
    "Functions are powerful. Try writing some yourself.\n",
    "\n",
    "As before, don't forget to run the setup code below before jumping into question 1."
   ]
  },
  {
   "cell_type": "code",
   "execution_count": 1,
   "id": "38253755",
   "metadata": {
    "_kg_hide-input": true,
    "_kg_hide-output": true,
    "execution": {
     "iopub.execute_input": "2025-06-26T10:32:12.818426Z",
     "iopub.status.busy": "2025-06-26T10:32:12.818087Z",
     "iopub.status.idle": "2025-06-26T10:32:14.905752Z",
     "shell.execute_reply": "2025-06-26T10:32:14.904699Z"
    },
    "papermill": {
     "duration": 2.093752,
     "end_time": "2025-06-26T10:32:14.907488",
     "exception": false,
     "start_time": "2025-06-26T10:32:12.813736",
     "status": "completed"
    },
    "tags": []
   },
   "outputs": [
    {
     "name": "stdout",
     "output_type": "stream",
     "text": [
      "Setup complete.\n"
     ]
    }
   ],
   "source": [
    "# SETUP. You don't need to worry for now about what this code does or how it works.\n",
    "from learntools.core import binder; binder.bind(globals())\n",
    "from learntools.python.ex2 import *\n",
    "print('Setup complete.')"
   ]
  },
  {
   "cell_type": "markdown",
   "id": "d44d0089",
   "metadata": {
    "papermill": {
     "duration": 0.00327,
     "end_time": "2025-06-26T10:32:14.914499",
     "exception": false,
     "start_time": "2025-06-26T10:32:14.911229",
     "status": "completed"
    },
    "tags": []
   },
   "source": [
    "# 1.\n",
    "\n",
    "Complete the body of the following function according to its docstring.\n",
    "\n",
    "HINT: Python has a built-in function `round`."
   ]
  },
  {
   "cell_type": "code",
   "execution_count": 2,
   "id": "3540e879",
   "metadata": {
    "execution": {
     "iopub.execute_input": "2025-06-26T10:32:14.922748Z",
     "iopub.status.busy": "2025-06-26T10:32:14.922308Z",
     "iopub.status.idle": "2025-06-26T10:32:14.931119Z",
     "shell.execute_reply": "2025-06-26T10:32:14.930270Z"
    },
    "papermill": {
     "duration": 0.014597,
     "end_time": "2025-06-26T10:32:14.932594",
     "exception": false,
     "start_time": "2025-06-26T10:32:14.917997",
     "status": "completed"
    },
    "tags": []
   },
   "outputs": [
    {
     "data": {
      "application/javascript": [
       "parent.postMessage({\"jupyterEvent\": \"custom.exercise_interaction\", \"data\": {\"outcomeType\": 1, \"valueTowardsCompletion\": 0.16666666666666666, \"interactionType\": 1, \"questionType\": 2, \"questionId\": \"1_RoundFunctionProblem\", \"learnToolsVersion\": \"0.3.5\", \"failureMessage\": \"\", \"exceptionClass\": \"\", \"trace\": \"\"}}, \"*\")"
      ],
      "text/plain": [
       "<IPython.core.display.Javascript object>"
      ]
     },
     "metadata": {},
     "output_type": "display_data"
    },
    {
     "data": {
      "text/markdown": [
       "<span style=\"color:#33cc33\">Correct</span>"
      ],
      "text/plain": [
       "Correct"
      ]
     },
     "metadata": {},
     "output_type": "display_data"
    }
   ],
   "source": [
    "def round_to_two_places(num):\n",
    "    \"\"\"Return the given number rounded to two decimal places. \n",
    "    \n",
    "    >>> round_to_two_places(3.14159)\n",
    "    3.14\n",
    "    \"\"\"\n",
    "    return round(num, 2)\n",
    "    # Replace this body with your own code.\n",
    "    # (\"pass\" is a keyword that does literally nothing. We used it as a placeholder\n",
    "    # because after we begin a code block, Python requires at least one line of code)\n",
    "    # pass\n",
    "\n",
    "# Check your answer\n",
    "q1.check()"
   ]
  },
  {
   "cell_type": "code",
   "execution_count": 3,
   "id": "65308438",
   "metadata": {
    "execution": {
     "iopub.execute_input": "2025-06-26T10:32:14.941205Z",
     "iopub.status.busy": "2025-06-26T10:32:14.940925Z",
     "iopub.status.idle": "2025-06-26T10:32:14.944889Z",
     "shell.execute_reply": "2025-06-26T10:32:14.944046Z"
    },
    "papermill": {
     "duration": 0.010176,
     "end_time": "2025-06-26T10:32:14.946519",
     "exception": false,
     "start_time": "2025-06-26T10:32:14.936343",
     "status": "completed"
    },
    "tags": []
   },
   "outputs": [],
   "source": [
    "# Uncomment the following for a hint\n",
    "# q1.hint()\n",
    "# Or uncomment the following to peek at the solution\n",
    "# q1.solution()"
   ]
  },
  {
   "cell_type": "markdown",
   "id": "6d3c88fe",
   "metadata": {
    "papermill": {
     "duration": 0.00338,
     "end_time": "2025-06-26T10:32:14.953750",
     "exception": false,
     "start_time": "2025-06-26T10:32:14.950370",
     "status": "completed"
    },
    "tags": []
   },
   "source": [
    "# 2.\n",
    "The help for `round` says that `ndigits` (the second argument) may be negative.\n",
    "What do you think will happen when it is? Try some examples in the following cell."
   ]
  },
  {
   "cell_type": "code",
   "execution_count": 4,
   "id": "c3bf2a41",
   "metadata": {
    "execution": {
     "iopub.execute_input": "2025-06-26T10:32:14.962916Z",
     "iopub.status.busy": "2025-06-26T10:32:14.961968Z",
     "iopub.status.idle": "2025-06-26T10:32:14.967973Z",
     "shell.execute_reply": "2025-06-26T10:32:14.966933Z"
    },
    "papermill": {
     "duration": 0.012382,
     "end_time": "2025-06-26T10:32:14.969702",
     "exception": false,
     "start_time": "2025-06-26T10:32:14.957320",
     "status": "completed"
    },
    "tags": []
   },
   "outputs": [
    {
     "data": {
      "text/plain": [
       "120.0"
      ]
     },
     "execution_count": 4,
     "metadata": {},
     "output_type": "execute_result"
    }
   ],
   "source": [
    "# Put your test code here\n",
    "round(123.123456, -1)"
   ]
  },
  {
   "cell_type": "markdown",
   "id": "e4ee48f7",
   "metadata": {
    "papermill": {
     "duration": 0.003505,
     "end_time": "2025-06-26T10:32:14.977591",
     "exception": false,
     "start_time": "2025-06-26T10:32:14.974086",
     "status": "completed"
    },
    "tags": []
   },
   "source": [
    "Can you think of a case where this would be useful?  Once you're ready, run the code cell below to see the answer and to receive credit for completing the problem."
   ]
  },
  {
   "cell_type": "code",
   "execution_count": 5,
   "id": "94ce4f9a",
   "metadata": {
    "execution": {
     "iopub.execute_input": "2025-06-26T10:32:14.986328Z",
     "iopub.status.busy": "2025-06-26T10:32:14.986043Z",
     "iopub.status.idle": "2025-06-26T10:32:14.990493Z",
     "shell.execute_reply": "2025-06-26T10:32:14.989513Z"
    },
    "papermill": {
     "duration": 0.010596,
     "end_time": "2025-06-26T10:32:14.991960",
     "exception": false,
     "start_time": "2025-06-26T10:32:14.981364",
     "status": "completed"
    },
    "tags": []
   },
   "outputs": [],
   "source": [
    "# Check your answer (Run this code cell to receive credit!)\n",
    "# q2.solution()"
   ]
  },
  {
   "cell_type": "markdown",
   "id": "76872776",
   "metadata": {
    "papermill": {
     "duration": 0.003439,
     "end_time": "2025-06-26T10:32:14.999307",
     "exception": false,
     "start_time": "2025-06-26T10:32:14.995868",
     "status": "completed"
    },
    "tags": []
   },
   "source": [
    "# 3.\n",
    "\n",
    "In the previous exercise, the candy-sharing friends Alice, Bob and Carol tried to split candies evenly. For the sake of their friendship, any candies left over would be smashed. For example, if they collectively bring home 91 candies, they'll take 30 each and smash 1.\n",
    "\n",
    "Below is a simple function that will calculate the number of candies to smash for *any* number of total candies.\n",
    "\n",
    "Modify it so that it optionally takes a second argument representing the number of friends the candies are being split between. If no second argument is provided, it should assume 3 friends, as before.\n",
    "\n",
    "Update the docstring to reflect this new behaviour."
   ]
  },
  {
   "cell_type": "code",
   "execution_count": 6,
   "id": "a58c11fd",
   "metadata": {
    "execution": {
     "iopub.execute_input": "2025-06-26T10:32:15.007868Z",
     "iopub.status.busy": "2025-06-26T10:32:15.007574Z",
     "iopub.status.idle": "2025-06-26T10:32:15.015548Z",
     "shell.execute_reply": "2025-06-26T10:32:15.014629Z"
    },
    "papermill": {
     "duration": 0.014054,
     "end_time": "2025-06-26T10:32:15.017011",
     "exception": false,
     "start_time": "2025-06-26T10:32:15.002957",
     "status": "completed"
    },
    "tags": []
   },
   "outputs": [
    {
     "data": {
      "application/javascript": [
       "parent.postMessage({\"jupyterEvent\": \"custom.exercise_interaction\", \"data\": {\"outcomeType\": 1, \"valueTowardsCompletion\": 0.16666666666666666, \"interactionType\": 1, \"questionType\": 2, \"questionId\": \"3_CandySmashingFunctionProblem\", \"learnToolsVersion\": \"0.3.5\", \"failureMessage\": \"\", \"exceptionClass\": \"\", \"trace\": \"\"}}, \"*\")"
      ],
      "text/plain": [
       "<IPython.core.display.Javascript object>"
      ]
     },
     "metadata": {},
     "output_type": "display_data"
    },
    {
     "data": {
      "text/markdown": [
       "<span style=\"color:#33cc33\">Correct</span>"
      ],
      "text/plain": [
       "Correct"
      ]
     },
     "metadata": {},
     "output_type": "display_data"
    }
   ],
   "source": [
    "def to_smash(total_candies, no_of_people = 3):\n",
    "    \"\"\"Return the number of leftover candies that must be smashed after distributing\n",
    "    the given number of candies evenly between 3 friends.\n",
    "    \n",
    "    >>> to_smash(91)\n",
    "    1\n",
    "    \"\"\"\n",
    "    return total_candies % no_of_people\n",
    "\n",
    "# Check your answer\n",
    "q3.check()"
   ]
  },
  {
   "cell_type": "code",
   "execution_count": 7,
   "id": "99cd8430",
   "metadata": {
    "execution": {
     "iopub.execute_input": "2025-06-26T10:32:15.026832Z",
     "iopub.status.busy": "2025-06-26T10:32:15.026547Z",
     "iopub.status.idle": "2025-06-26T10:32:15.030659Z",
     "shell.execute_reply": "2025-06-26T10:32:15.029832Z"
    },
    "papermill": {
     "duration": 0.010844,
     "end_time": "2025-06-26T10:32:15.032142",
     "exception": false,
     "start_time": "2025-06-26T10:32:15.021298",
     "status": "completed"
    },
    "tags": []
   },
   "outputs": [],
   "source": [
    "#q3.hint()"
   ]
  },
  {
   "cell_type": "code",
   "execution_count": 8,
   "id": "6d7ab512",
   "metadata": {
    "execution": {
     "iopub.execute_input": "2025-06-26T10:32:15.041453Z",
     "iopub.status.busy": "2025-06-26T10:32:15.041125Z",
     "iopub.status.idle": "2025-06-26T10:32:15.045369Z",
     "shell.execute_reply": "2025-06-26T10:32:15.044490Z"
    },
    "papermill": {
     "duration": 0.010672,
     "end_time": "2025-06-26T10:32:15.046924",
     "exception": false,
     "start_time": "2025-06-26T10:32:15.036252",
     "status": "completed"
    },
    "tags": []
   },
   "outputs": [],
   "source": [
    "#q3.solution()"
   ]
  },
  {
   "cell_type": "markdown",
   "id": "3a1ca221",
   "metadata": {
    "papermill": {
     "duration": 0.003859,
     "end_time": "2025-06-26T10:32:15.054847",
     "exception": false,
     "start_time": "2025-06-26T10:32:15.050988",
     "status": "completed"
    },
    "tags": []
   },
   "source": [
    "# 4. (Optional)\n",
    "\n",
    "It may not be fun, but reading and understanding error messages will be an important part of your Python career.\n",
    "\n",
    "Each code cell below contains some commented buggy code. For each cell...\n",
    "\n",
    "1. Read the code and predict what you think will happen when it's run.\n",
    "2. Then uncomment the code and run it to see what happens. (**Tip**: In the kernel editor, you can highlight several lines and press `ctrl`+`/` to toggle commenting.)\n",
    "3. Fix the code (so that it accomplishes its intended purpose without throwing an exception)\n",
    "\n",
    "<!-- TODO: should this be autochecked? Delta is probably pretty small. -->"
   ]
  },
  {
   "cell_type": "code",
   "execution_count": 9,
   "id": "fd8d30b1",
   "metadata": {
    "execution": {
     "iopub.execute_input": "2025-06-26T10:32:15.064605Z",
     "iopub.status.busy": "2025-06-26T10:32:15.064125Z",
     "iopub.status.idle": "2025-06-26T10:32:15.068512Z",
     "shell.execute_reply": "2025-06-26T10:32:15.067717Z"
    },
    "papermill": {
     "duration": 0.011382,
     "end_time": "2025-06-26T10:32:15.070268",
     "exception": false,
     "start_time": "2025-06-26T10:32:15.058886",
     "status": "completed"
    },
    "tags": []
   },
   "outputs": [],
   "source": [
    "# Nameerror \n",
    "# ruound_to_two_places(9.9999)"
   ]
  },
  {
   "cell_type": "code",
   "execution_count": 10,
   "id": "81eac55a",
   "metadata": {
    "execution": {
     "iopub.execute_input": "2025-06-26T10:32:15.079993Z",
     "iopub.status.busy": "2025-06-26T10:32:15.079692Z",
     "iopub.status.idle": "2025-06-26T10:32:15.083915Z",
     "shell.execute_reply": "2025-06-26T10:32:15.083177Z"
    },
    "papermill": {
     "duration": 0.010908,
     "end_time": "2025-06-26T10:32:15.085372",
     "exception": false,
     "start_time": "2025-06-26T10:32:15.074464",
     "status": "completed"
    },
    "tags": []
   },
   "outputs": [],
   "source": [
    "# x = -10\n",
    "# y = 5\n",
    "# # Which of the two variables above has the smallest absolute value?\n",
    "\n",
    "# abs will not take 2 values\n",
    "# smallest_abs = min(abs(x, y))"
   ]
  },
  {
   "cell_type": "code",
   "execution_count": 11,
   "id": "73465884",
   "metadata": {
    "execution": {
     "iopub.execute_input": "2025-06-26T10:32:15.095342Z",
     "iopub.status.busy": "2025-06-26T10:32:15.094463Z",
     "iopub.status.idle": "2025-06-26T10:32:15.099176Z",
     "shell.execute_reply": "2025-06-26T10:32:15.097926Z"
    },
    "papermill": {
     "duration": 0.011319,
     "end_time": "2025-06-26T10:32:15.100826",
     "exception": false,
     "start_time": "2025-06-26T10:32:15.089507",
     "status": "completed"
    },
    "tags": []
   },
   "outputs": [],
   "source": [
    "# def f(x):\n",
    "    # y = abs(x)\n",
    "# return is not inside function -> Syntax error\n",
    "# return y\n",
    "\n",
    "# print(f(5))"
   ]
  },
  {
   "cell_type": "markdown",
   "id": "57d3b248",
   "metadata": {
    "papermill": {
     "duration": 0.00374,
     "end_time": "2025-06-26T10:32:15.109373",
     "exception": false,
     "start_time": "2025-06-26T10:32:15.105633",
     "status": "completed"
    },
    "tags": []
   },
   "source": [
    "# Keep Going\n",
    "\n",
    "Nice job with the code. Next up, you'll learn about *conditionals*, which you'll need to **[write interesting programs](https://www.kaggle.com/colinmorris/booleans-and-conditionals)**. "
   ]
  },
  {
   "cell_type": "markdown",
   "id": "f6f3fe02",
   "metadata": {
    "papermill": {
     "duration": 0.003783,
     "end_time": "2025-06-26T10:32:15.117122",
     "exception": false,
     "start_time": "2025-06-26T10:32:15.113339",
     "status": "completed"
    },
    "tags": []
   },
   "source": [
    "---\n",
    "\n",
    "\n",
    "\n",
    "\n",
    "*Have questions or comments? Visit the [course discussion forum](https://www.kaggle.com/learn/python/discussion) to chat with other learners.*"
   ]
  }
 ],
 "metadata": {
  "kaggle": {
   "accelerator": "none",
   "dataSources": [],
   "isGpuEnabled": false,
   "isInternetEnabled": false,
   "language": "python",
   "sourceType": "notebook"
  },
  "kernelspec": {
   "display_name": "Python 3",
   "language": "python",
   "name": "python3"
  },
  "language_info": {
   "codemirror_mode": {
    "name": "ipython",
    "version": 3
   },
   "file_extension": ".py",
   "mimetype": "text/x-python",
   "name": "python",
   "nbconvert_exporter": "python",
   "pygments_lexer": "ipython3",
   "version": "3.11.11"
  },
  "learntools_metadata": {
   "lesson_index": 1,
   "type": "exercise"
  },
  "papermill": {
   "default_parameters": {},
   "duration": 8.559206,
   "end_time": "2025-06-26T10:32:15.640847",
   "environment_variables": {},
   "exception": null,
   "input_path": "__notebook__.ipynb",
   "output_path": "__notebook__.ipynb",
   "parameters": {},
   "start_time": "2025-06-26T10:32:07.081641",
   "version": "2.6.0"
  }
 },
 "nbformat": 4,
 "nbformat_minor": 5
}
