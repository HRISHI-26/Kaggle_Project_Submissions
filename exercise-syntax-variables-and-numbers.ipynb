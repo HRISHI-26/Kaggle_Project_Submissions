{
 "cells": [
  {
   "cell_type": "markdown",
   "id": "97af54b3",
   "metadata": {
    "papermill": {
     "duration": 0.005744,
     "end_time": "2025-06-26T09:44:29.077333",
     "exception": false,
     "start_time": "2025-06-26T09:44:29.071589",
     "status": "completed"
    },
    "tags": []
   },
   "source": [
    "**This notebook is an exercise in the [Python](https://www.kaggle.com/learn/python) course.  You can reference the tutorial at [this link](https://www.kaggle.com/colinmorris/hello-python).**\n",
    "\n",
    "---\n"
   ]
  },
  {
   "cell_type": "markdown",
   "id": "b66b1777",
   "metadata": {
    "papermill": {
     "duration": 0.004532,
     "end_time": "2025-06-26T09:44:29.086876",
     "exception": false,
     "start_time": "2025-06-26T09:44:29.082344",
     "status": "completed"
    },
    "tags": []
   },
   "source": [
    "Welcome to your first set of Python coding problems.  If this is your first time using Kaggle Notebooks, welcome! \n",
    "\n",
    "Notebooks are composed of blocks (called \"cells\") of text and code. Each of these is editable, though you'll mainly be editing the code cells to answer some questions.\n",
    "\n",
    "To get started, try running the code cell below (by pressing the ► button, or clicking on the cell and pressing ctrl+enter on your keyboard)."
   ]
  },
  {
   "cell_type": "code",
   "execution_count": 1,
   "id": "b445fba3",
   "metadata": {
    "execution": {
     "iopub.execute_input": "2025-06-26T09:44:29.097781Z",
     "iopub.status.busy": "2025-06-26T09:44:29.097394Z",
     "iopub.status.idle": "2025-06-26T09:44:29.105817Z",
     "shell.execute_reply": "2025-06-26T09:44:29.104930Z"
    },
    "papermill": {
     "duration": 0.01547,
     "end_time": "2025-06-26T09:44:29.107045",
     "exception": false,
     "start_time": "2025-06-26T09:44:29.091575",
     "status": "completed"
    },
    "tags": []
   },
   "outputs": [
    {
     "name": "stdout",
     "output_type": "stream",
     "text": [
      "You've successfully run some Python code\n",
      "Congratulations!\n",
      "Hello, World !!\n"
     ]
    }
   ],
   "source": [
    "print(\"You've successfully run some Python code\")\n",
    "print(\"Congratulations!\")\n",
    "print(\"Hello, World !!\")"
   ]
  },
  {
   "cell_type": "code",
   "execution_count": null,
   "id": "c3da38b0",
   "metadata": {
    "papermill": {
     "duration": 0.004703,
     "end_time": "2025-06-26T09:44:29.116761",
     "exception": false,
     "start_time": "2025-06-26T09:44:29.112058",
     "status": "completed"
    },
    "tags": []
   },
   "outputs": [],
   "source": []
  },
  {
   "cell_type": "code",
   "execution_count": null,
   "id": "44616af0",
   "metadata": {
    "papermill": {
     "duration": 0.004678,
     "end_time": "2025-06-26T09:44:29.126200",
     "exception": false,
     "start_time": "2025-06-26T09:44:29.121522",
     "status": "completed"
    },
    "tags": []
   },
   "outputs": [],
   "source": []
  },
  {
   "cell_type": "code",
   "execution_count": null,
   "id": "a8ab9499",
   "metadata": {
    "papermill": {
     "duration": 0.004679,
     "end_time": "2025-06-26T09:44:29.135667",
     "exception": false,
     "start_time": "2025-06-26T09:44:29.130988",
     "status": "completed"
    },
    "tags": []
   },
   "outputs": [],
   "source": []
  },
  {
   "cell_type": "markdown",
   "id": "315a23be",
   "metadata": {
    "papermill": {
     "duration": 0.004692,
     "end_time": "2025-06-26T09:44:29.145161",
     "exception": false,
     "start_time": "2025-06-26T09:44:29.140469",
     "status": "completed"
    },
    "tags": []
   },
   "source": [
    "Try adding another line of code in the cell above and re-running it. \n",
    "\n",
    "Now let's get a little fancier:  Add a new code cell by clicking on an existing code cell, hitting the escape key, and then hitting the `a` or `b` key.  The `a` key will add a cell above the current cell, and `b` adds a cell below.\n",
    "\n",
    "Great! Now you know how to use Notebooks.\n",
    "\n",
    "Each hands-on exercise starts by setting up our feedback and code checking mechanism. Run the code cell below to do that. Then you'll be ready to move on to question 0."
   ]
  },
  {
   "cell_type": "code",
   "execution_count": 2,
   "id": "8d45af74",
   "metadata": {
    "_kg_hide-input": true,
    "_kg_hide-output": true,
    "execution": {
     "iopub.execute_input": "2025-06-26T09:44:29.155973Z",
     "iopub.status.busy": "2025-06-26T09:44:29.155695Z",
     "iopub.status.idle": "2025-06-26T09:44:31.007392Z",
     "shell.execute_reply": "2025-06-26T09:44:31.006371Z"
    },
    "papermill": {
     "duration": 1.858917,
     "end_time": "2025-06-26T09:44:31.008893",
     "exception": false,
     "start_time": "2025-06-26T09:44:29.149976",
     "status": "completed"
    },
    "tags": []
   },
   "outputs": [
    {
     "name": "stdout",
     "output_type": "stream",
     "text": [
      "Setup complete! You're ready to start question 0.\n"
     ]
    }
   ],
   "source": [
    "from learntools.core import binder; binder.bind(globals())\n",
    "from learntools.python.ex1 import *\n",
    "print(\"Setup complete! You're ready to start question 0.\")"
   ]
  },
  {
   "cell_type": "markdown",
   "id": "6a72809d",
   "metadata": {
    "papermill": {
     "duration": 0.006231,
     "end_time": "2025-06-26T09:44:31.020346",
     "exception": false,
     "start_time": "2025-06-26T09:44:31.014115",
     "status": "completed"
    },
    "tags": []
   },
   "source": [
    "# 0.\n",
    "\n",
    "*This is a silly question intended as an introduction to the format we use for hands-on exercises throughout all Kaggle courses.*\n",
    "\n",
    "**What is your favorite color? **\n",
    "\n",
    "To complete this question, create a variable called `color` in the cell below with an appropriate value. The function call `q0.check()` (which we've already provided in the cell below) will check your answer."
   ]
  },
  {
   "cell_type": "code",
   "execution_count": 3,
   "id": "de6fe7ba",
   "metadata": {
    "execution": {
     "iopub.execute_input": "2025-06-26T09:44:31.032735Z",
     "iopub.status.busy": "2025-06-26T09:44:31.031803Z",
     "iopub.status.idle": "2025-06-26T09:44:31.040664Z",
     "shell.execute_reply": "2025-06-26T09:44:31.039813Z"
    },
    "papermill": {
     "duration": 0.01634,
     "end_time": "2025-06-26T09:44:31.042120",
     "exception": false,
     "start_time": "2025-06-26T09:44:31.025780",
     "status": "completed"
    },
    "tags": []
   },
   "outputs": [
    {
     "data": {
      "application/javascript": [
       "parent.postMessage({\"jupyterEvent\": \"custom.exercise_interaction\", \"data\": {\"outcomeType\": 1, \"valueTowardsCompletion\": 0.25, \"interactionType\": 1, \"questionType\": 2, \"questionId\": \"0_ExerciseFormatTutorial\", \"learnToolsVersion\": \"0.3.5\", \"failureMessage\": \"\", \"exceptionClass\": \"\", \"trace\": \"\"}}, \"*\")"
      ],
      "text/plain": [
       "<IPython.core.display.Javascript object>"
      ]
     },
     "metadata": {},
     "output_type": "display_data"
    },
    {
     "data": {
      "text/markdown": [
       "<span style=\"color:#33cc33\">Correct:</span> What?! You got it right without needing a hint or anything? Drats. Well hey, you should still continue to the next step to get some practice asking for a hint and checking solutions. (Even though you obviously don't need any help here.)"
      ],
      "text/plain": [
       "Correct: What?! You got it right without needing a hint or anything? Drats. Well hey, you should still continue to the next step to get some practice asking for a hint and checking solutions. (Even though you obviously don't need any help here.)"
      ]
     },
     "metadata": {},
     "output_type": "display_data"
    }
   ],
   "source": [
    "# create a variable called color with an appropriate value on the line below\n",
    "# (Remember, strings in Python must be enclosed in 'single' or \"double\" quotes)\n",
    "color = \"blue\"\n",
    "\n",
    "# Check your answer\n",
    "q0.check()"
   ]
  },
  {
   "cell_type": "markdown",
   "id": "43e43269",
   "metadata": {
    "papermill": {
     "duration": 0.004905,
     "end_time": "2025-06-26T09:44:31.052309",
     "exception": false,
     "start_time": "2025-06-26T09:44:31.047404",
     "status": "completed"
    },
    "tags": []
   },
   "source": [
    "Didn't get the right answer? How do you not even know your own favorite color?!\n",
    "\n",
    "Delete the `#` in the line below to make one of the lines run. You can choose between getting a hint or the full answer by choosing which line to remove the `#` from. \n",
    "\n",
    "Removing the `#` is called uncommenting, because it changes that line from a \"comment\" which Python doesn't run to code, which Python does run."
   ]
  },
  {
   "cell_type": "code",
   "execution_count": 4,
   "id": "eb79744a",
   "metadata": {
    "execution": {
     "iopub.execute_input": "2025-06-26T09:44:31.063885Z",
     "iopub.status.busy": "2025-06-26T09:44:31.063251Z",
     "iopub.status.idle": "2025-06-26T09:44:31.066830Z",
     "shell.execute_reply": "2025-06-26T09:44:31.066129Z"
    },
    "papermill": {
     "duration": 0.010933,
     "end_time": "2025-06-26T09:44:31.068184",
     "exception": false,
     "start_time": "2025-06-26T09:44:31.057251",
     "status": "completed"
    },
    "tags": []
   },
   "outputs": [],
   "source": [
    "# q0.hint()\n",
    "#q0.solution()"
   ]
  },
  {
   "cell_type": "markdown",
   "id": "33eb6556",
   "metadata": {
    "papermill": {
     "duration": 0.004826,
     "end_time": "2025-06-26T09:44:31.078268",
     "exception": false,
     "start_time": "2025-06-26T09:44:31.073442",
     "status": "completed"
    },
    "tags": []
   },
   "source": [
    "The upcoming questions work the same way. The only thing that will change are the question numbers. For the next question, you'll call `q1.check()`, `q1.hint()`, `q1.solution()`, for question 2, you'll call `q2.check()`, and so on."
   ]
  },
  {
   "cell_type": "markdown",
   "id": "315d26ce",
   "metadata": {
    "papermill": {
     "duration": 0.004941,
     "end_time": "2025-06-26T09:44:31.088328",
     "exception": false,
     "start_time": "2025-06-26T09:44:31.083387",
     "status": "completed"
    },
    "tags": []
   },
   "source": [
    "<hr/>\n",
    "\n",
    "# 1.\n",
    "\n",
    "Complete the code below. In case it's helpful, here is the table of available arithmetic operations:\n",
    "\n",
    "\n",
    "\n",
    "| Operator     | Name           | Description                                            |\n",
    "|--------------|----------------|--------------------------------------------------------|\n",
    "| ``a + b``    | Addition       | Sum of ``a`` and ``b``                                 |\n",
    "| ``a - b``    | Subtraction    | Difference of ``a`` and ``b``                          |\n",
    "| ``a * b``    | Multiplication | Product of ``a`` and ``b``                             |\n",
    "| ``a / b``    | True division  | Quotient of ``a`` and ``b``                            |\n",
    "| ``a // b``   | Floor division | Quotient of ``a`` and ``b``, removing fractional parts |\n",
    "| ``a % b``    | Modulus        | Integer remainder after division of ``a`` by ``b``     |\n",
    "| ``a ** b``   | Exponentiation | ``a`` raised to the power of ``b``                     |\n",
    "| ``-a``       | Negation       | The negative of ``a``                                  |\n",
    "\n",
    "<span style=\"display:none\"></span>\n"
   ]
  },
  {
   "cell_type": "code",
   "execution_count": 5,
   "id": "f70f6e9c",
   "metadata": {
    "execution": {
     "iopub.execute_input": "2025-06-26T09:44:31.099742Z",
     "iopub.status.busy": "2025-06-26T09:44:31.099460Z",
     "iopub.status.idle": "2025-06-26T09:44:31.106683Z",
     "shell.execute_reply": "2025-06-26T09:44:31.105970Z"
    },
    "papermill": {
     "duration": 0.014458,
     "end_time": "2025-06-26T09:44:31.107879",
     "exception": false,
     "start_time": "2025-06-26T09:44:31.093421",
     "status": "completed"
    },
    "tags": []
   },
   "outputs": [
    {
     "data": {
      "application/javascript": [
       "parent.postMessage({\"jupyterEvent\": \"custom.exercise_interaction\", \"data\": {\"outcomeType\": 1, \"valueTowardsCompletion\": 0.25, \"interactionType\": 1, \"questionType\": 1, \"questionId\": \"1_CircleArea\", \"learnToolsVersion\": \"0.3.5\", \"failureMessage\": \"\", \"exceptionClass\": \"\", \"trace\": \"\"}}, \"*\")"
      ],
      "text/plain": [
       "<IPython.core.display.Javascript object>"
      ]
     },
     "metadata": {},
     "output_type": "display_data"
    },
    {
     "data": {
      "text/markdown": [
       "<span style=\"color:#33cc33\">Correct</span>"
      ],
      "text/plain": [
       "Correct"
      ]
     },
     "metadata": {},
     "output_type": "display_data"
    }
   ],
   "source": [
    "pi = 3.14159 # approximate\n",
    "diameter = 3\n",
    "\n",
    "# Create a variable called 'radius' equal to half the diameter\n",
    "radius = diameter / 2\n",
    "\n",
    "# Create a variable called 'area', using the formula for the area of a circle: pi times the radius squared\n",
    "area = pi * radius * radius\n",
    "\n",
    "# Check your answer\n",
    "q1.check()"
   ]
  },
  {
   "cell_type": "code",
   "execution_count": 6,
   "id": "bca9aae2",
   "metadata": {
    "execution": {
     "iopub.execute_input": "2025-06-26T09:44:31.120246Z",
     "iopub.status.busy": "2025-06-26T09:44:31.119585Z",
     "iopub.status.idle": "2025-06-26T09:44:31.123228Z",
     "shell.execute_reply": "2025-06-26T09:44:31.122439Z"
    },
    "papermill": {
     "duration": 0.011274,
     "end_time": "2025-06-26T09:44:31.124668",
     "exception": false,
     "start_time": "2025-06-26T09:44:31.113394",
     "status": "completed"
    },
    "tags": []
   },
   "outputs": [],
   "source": [
    "# Uncomment and run the lines below if you need help.\n",
    "#q1.hint()\n",
    "#q1.solution()"
   ]
  },
  {
   "cell_type": "markdown",
   "id": "31381add",
   "metadata": {
    "papermill": {
     "duration": 0.005445,
     "end_time": "2025-06-26T09:44:31.135946",
     "exception": false,
     "start_time": "2025-06-26T09:44:31.130501",
     "status": "completed"
    },
    "tags": []
   },
   "source": [
    "<hr/>\n",
    "\n",
    "# 2.\n",
    "\n",
    "Add code to the following cell to swap variables `a` and `b` (so that `a` refers to the object previously referred to by `b` and vice versa)."
   ]
  },
  {
   "cell_type": "code",
   "execution_count": 7,
   "id": "2da8ee83",
   "metadata": {
    "execution": {
     "iopub.execute_input": "2025-06-26T09:44:31.147865Z",
     "iopub.status.busy": "2025-06-26T09:44:31.147570Z",
     "iopub.status.idle": "2025-06-26T09:44:31.155595Z",
     "shell.execute_reply": "2025-06-26T09:44:31.154824Z"
    },
    "papermill": {
     "duration": 0.015575,
     "end_time": "2025-06-26T09:44:31.156851",
     "exception": false,
     "start_time": "2025-06-26T09:44:31.141276",
     "status": "completed"
    },
    "tags": []
   },
   "outputs": [
    {
     "data": {
      "application/javascript": [
       "parent.postMessage({\"jupyterEvent\": \"custom.exercise_interaction\", \"data\": {\"outcomeType\": 1, \"valueTowardsCompletion\": 0.25, \"interactionType\": 1, \"questionType\": 2, \"questionId\": \"2_VariableSwap\", \"learnToolsVersion\": \"0.3.5\", \"failureMessage\": \"\", \"exceptionClass\": \"\", \"trace\": \"\"}}, \"*\")"
      ],
      "text/plain": [
       "<IPython.core.display.Javascript object>"
      ]
     },
     "metadata": {},
     "output_type": "display_data"
    },
    {
     "data": {
      "text/markdown": [
       "<span style=\"color:#33cc33\">Correct:</span> \n",
       "\n",
       "The most straightforward solution is to use a third variable to temporarily store one of the old values. e.g.:\n",
       "\n",
       "    tmp = a\n",
       "    a = b\n",
       "    b = tmp\n",
       "\n",
       "If you've read lots of Python code, you might have seen the following trick to swap two variables in one line:\n",
       "\n",
       "    a, b = b, a\n",
       "\n",
       "We'll demystify this bit of Python magic later when we talk about *tuples*."
      ],
      "text/plain": [
       "Correct: \n",
       "\n",
       "The most straightforward solution is to use a third variable to temporarily store one of the old values. e.g.:\n",
       "\n",
       "    tmp = a\n",
       "    a = b\n",
       "    b = tmp\n",
       "\n",
       "If you've read lots of Python code, you might have seen the following trick to swap two variables in one line:\n",
       "\n",
       "    a, b = b, a\n",
       "\n",
       "We'll demystify this bit of Python magic later when we talk about *tuples*."
      ]
     },
     "metadata": {},
     "output_type": "display_data"
    }
   ],
   "source": [
    "########### Setup code - don't touch this part ######################\n",
    "# If you're curious, these are examples of lists. We'll talk about \n",
    "# them in depth a few lessons from now. For now, just know that they're\n",
    "# yet another type of Python object, like int or float.\n",
    "a = [1, 2, 3]\n",
    "b = [3, 2, 1]\n",
    "q2.store_original_ids()\n",
    "######################################################################\n",
    "\n",
    "# Your code goes here. Swap the values to which a and b refer.\n",
    "# If you get stuck, you can always uncomment one or both of the lines in\n",
    "# the next cell for a hint, or to peek at the solution.\n",
    "\n",
    "c = a\n",
    "a = b\n",
    "b = c\n",
    "\n",
    "######################################################################\n",
    "\n",
    "# Check your answer\n",
    "q2.check()"
   ]
  },
  {
   "cell_type": "code",
   "execution_count": 8,
   "id": "f93bf7c9",
   "metadata": {
    "execution": {
     "iopub.execute_input": "2025-06-26T09:44:31.170241Z",
     "iopub.status.busy": "2025-06-26T09:44:31.169433Z",
     "iopub.status.idle": "2025-06-26T09:44:31.173215Z",
     "shell.execute_reply": "2025-06-26T09:44:31.172552Z"
    },
    "papermill": {
     "duration": 0.011443,
     "end_time": "2025-06-26T09:44:31.174483",
     "exception": false,
     "start_time": "2025-06-26T09:44:31.163040",
     "status": "completed"
    },
    "tags": []
   },
   "outputs": [],
   "source": [
    "# q2.hint()"
   ]
  },
  {
   "cell_type": "code",
   "execution_count": 9,
   "id": "1ce733c7",
   "metadata": {
    "execution": {
     "iopub.execute_input": "2025-06-26T09:44:31.187441Z",
     "iopub.status.busy": "2025-06-26T09:44:31.186736Z",
     "iopub.status.idle": "2025-06-26T09:44:31.190734Z",
     "shell.execute_reply": "2025-06-26T09:44:31.189963Z"
    },
    "papermill": {
     "duration": 0.011885,
     "end_time": "2025-06-26T09:44:31.192061",
     "exception": false,
     "start_time": "2025-06-26T09:44:31.180176",
     "status": "completed"
    },
    "tags": []
   },
   "outputs": [],
   "source": [
    "#q2.solution()"
   ]
  },
  {
   "cell_type": "markdown",
   "id": "9ee46342",
   "metadata": {
    "papermill": {
     "duration": 0.006036,
     "end_time": "2025-06-26T09:44:31.203988",
     "exception": false,
     "start_time": "2025-06-26T09:44:31.197952",
     "status": "completed"
    },
    "tags": []
   },
   "source": [
    "<hr/>\n",
    "\n",
    "# 3a.\n",
    "\n",
    "Add parentheses to the following expression so that it evaluates to 1."
   ]
  },
  {
   "cell_type": "code",
   "execution_count": 10,
   "id": "65d7c149",
   "metadata": {
    "execution": {
     "iopub.execute_input": "2025-06-26T09:44:31.217201Z",
     "iopub.status.busy": "2025-06-26T09:44:31.216615Z",
     "iopub.status.idle": "2025-06-26T09:44:31.221904Z",
     "shell.execute_reply": "2025-06-26T09:44:31.221121Z"
    },
    "papermill": {
     "duration": 0.013124,
     "end_time": "2025-06-26T09:44:31.223241",
     "exception": false,
     "start_time": "2025-06-26T09:44:31.210117",
     "status": "completed"
    },
    "tags": []
   },
   "outputs": [
    {
     "data": {
      "text/plain": [
       "1"
      ]
     },
     "execution_count": 10,
     "metadata": {},
     "output_type": "execute_result"
    }
   ],
   "source": [
    "( 5 - 3 ) // 2"
   ]
  },
  {
   "cell_type": "code",
   "execution_count": 11,
   "id": "bdb53910",
   "metadata": {
    "execution": {
     "iopub.execute_input": "2025-06-26T09:44:31.236733Z",
     "iopub.status.busy": "2025-06-26T09:44:31.235941Z",
     "iopub.status.idle": "2025-06-26T09:44:31.239660Z",
     "shell.execute_reply": "2025-06-26T09:44:31.239031Z"
    },
    "papermill": {
     "duration": 0.012048,
     "end_time": "2025-06-26T09:44:31.241317",
     "exception": false,
     "start_time": "2025-06-26T09:44:31.229269",
     "status": "completed"
    },
    "tags": []
   },
   "outputs": [],
   "source": [
    "#q3.a.hint()"
   ]
  },
  {
   "cell_type": "code",
   "execution_count": 12,
   "id": "fbd7f2fb",
   "metadata": {
    "execution": {
     "iopub.execute_input": "2025-06-26T09:44:31.254180Z",
     "iopub.status.busy": "2025-06-26T09:44:31.253539Z",
     "iopub.status.idle": "2025-06-26T09:44:31.260107Z",
     "shell.execute_reply": "2025-06-26T09:44:31.259343Z"
    },
    "papermill": {
     "duration": 0.014515,
     "end_time": "2025-06-26T09:44:31.261660",
     "exception": false,
     "start_time": "2025-06-26T09:44:31.247145",
     "status": "completed"
    },
    "tags": []
   },
   "outputs": [
    {
     "data": {
      "application/javascript": [
       "parent.postMessage({\"jupyterEvent\": \"custom.exercise_interaction\", \"data\": {\"interactionType\": 3, \"questionType\": 4, \"questionId\": \"3.1_ArithmeticParensEasy\", \"learnToolsVersion\": \"0.3.5\", \"valueTowardsCompletion\": 0.0, \"failureMessage\": \"\", \"exceptionClass\": \"\", \"trace\": \"\", \"outcomeType\": 4}}, \"*\")"
      ],
      "text/plain": [
       "<IPython.core.display.Javascript object>"
      ]
     },
     "metadata": {},
     "output_type": "display_data"
    },
    {
     "data": {
      "text/markdown": [
       "<span style=\"color:#33cc99\">Solution:</span> \n",
       "```python\n",
       "(5 - 3) // 2\n",
       "```"
      ],
      "text/plain": [
       "Solution: \n",
       "```python\n",
       "(5 - 3) // 2\n",
       "```"
      ]
     },
     "metadata": {},
     "output_type": "display_data"
    }
   ],
   "source": [
    "# Check your answer (Run this code cell to receive credit!)\n",
    "q3.a.solution()"
   ]
  },
  {
   "cell_type": "markdown",
   "id": "ae8c7c88",
   "metadata": {
    "papermill": {
     "duration": 0.00584,
     "end_time": "2025-06-26T09:44:31.273827",
     "exception": false,
     "start_time": "2025-06-26T09:44:31.267987",
     "status": "completed"
    },
    "tags": []
   },
   "source": [
    "# 3b.  <span title=\"A bit spicy\" style=\"color: darkgreen \">🌶️</span>\n",
    "\n",
    "<small>Questions, like this one, marked a spicy pepper are a bit harder.</small>\n",
    "\n",
    "Add parentheses to the following expression so that it evaluates to 0."
   ]
  },
  {
   "cell_type": "code",
   "execution_count": 13,
   "id": "9fa94d85",
   "metadata": {
    "execution": {
     "iopub.execute_input": "2025-06-26T09:44:31.287043Z",
     "iopub.status.busy": "2025-06-26T09:44:31.286690Z",
     "iopub.status.idle": "2025-06-26T09:44:31.292692Z",
     "shell.execute_reply": "2025-06-26T09:44:31.291849Z"
    },
    "papermill": {
     "duration": 0.01451,
     "end_time": "2025-06-26T09:44:31.294293",
     "exception": false,
     "start_time": "2025-06-26T09:44:31.279783",
     "status": "completed"
    },
    "tags": []
   },
   "outputs": [
    {
     "data": {
      "text/plain": [
       "0"
      ]
     },
     "execution_count": 13,
     "metadata": {},
     "output_type": "execute_result"
    }
   ],
   "source": [
    "(8 - 3) * (2 - (1 + 1))"
   ]
  },
  {
   "cell_type": "code",
   "execution_count": 14,
   "id": "ad08b955",
   "metadata": {
    "execution": {
     "iopub.execute_input": "2025-06-26T09:44:31.308063Z",
     "iopub.status.busy": "2025-06-26T09:44:31.307241Z",
     "iopub.status.idle": "2025-06-26T09:44:31.311283Z",
     "shell.execute_reply": "2025-06-26T09:44:31.310457Z"
    },
    "papermill": {
     "duration": 0.012346,
     "end_time": "2025-06-26T09:44:31.312716",
     "exception": false,
     "start_time": "2025-06-26T09:44:31.300370",
     "status": "completed"
    },
    "tags": []
   },
   "outputs": [],
   "source": [
    "# q3.b.hint()"
   ]
  },
  {
   "cell_type": "code",
   "execution_count": 15,
   "id": "993046c8",
   "metadata": {
    "execution": {
     "iopub.execute_input": "2025-06-26T09:44:31.326253Z",
     "iopub.status.busy": "2025-06-26T09:44:31.325312Z",
     "iopub.status.idle": "2025-06-26T09:44:31.332514Z",
     "shell.execute_reply": "2025-06-26T09:44:31.331848Z"
    },
    "papermill": {
     "duration": 0.015043,
     "end_time": "2025-06-26T09:44:31.333730",
     "exception": false,
     "start_time": "2025-06-26T09:44:31.318687",
     "status": "completed"
    },
    "tags": []
   },
   "outputs": [
    {
     "data": {
      "application/javascript": [
       "parent.postMessage({\"jupyterEvent\": \"custom.exercise_interaction\", \"data\": {\"interactionType\": 3, \"questionType\": 4, \"questionId\": \"3.2_ArithmeticParensHard\", \"learnToolsVersion\": \"0.3.5\", \"valueTowardsCompletion\": 0.0, \"failureMessage\": \"\", \"exceptionClass\": \"\", \"trace\": \"\", \"outcomeType\": 4}}, \"*\")"
      ],
      "text/plain": [
       "<IPython.core.display.Javascript object>"
      ]
     },
     "metadata": {},
     "output_type": "display_data"
    },
    {
     "data": {
      "text/markdown": [
       "<span style=\"color:#33cc99\">Solution:</span> `(8 - 3) * (2 - (1 + 1))` is one solution. There may be others."
      ],
      "text/plain": [
       "Solution: `(8 - 3) * (2 - (1 + 1))` is one solution. There may be others."
      ]
     },
     "metadata": {},
     "output_type": "display_data"
    }
   ],
   "source": [
    "# Check your answer (Run this code cell to receive credit!)\n",
    "q3.b.solution()"
   ]
  },
  {
   "cell_type": "markdown",
   "id": "ca3d376f",
   "metadata": {
    "papermill": {
     "duration": 0.006792,
     "end_time": "2025-06-26T09:44:31.347019",
     "exception": false,
     "start_time": "2025-06-26T09:44:31.340227",
     "status": "completed"
    },
    "tags": []
   },
   "source": [
    "<hr/>\n",
    "\n",
    "# 4. \n",
    "Alice, Bob and Carol have agreed to pool their Halloween candy and split it evenly among themselves.\n",
    "For the sake of their friendship, any candies left over will be smashed. For example, if they collectively\n",
    "bring home 91 candies, they'll take 30 each and smash 1.\n",
    "\n",
    "Write an arithmetic expression below to calculate how many candies they must smash for a given haul."
   ]
  },
  {
   "cell_type": "code",
   "execution_count": 16,
   "id": "353e6be1",
   "metadata": {
    "execution": {
     "iopub.execute_input": "2025-06-26T09:44:31.360306Z",
     "iopub.status.busy": "2025-06-26T09:44:31.359942Z",
     "iopub.status.idle": "2025-06-26T09:44:31.367000Z",
     "shell.execute_reply": "2025-06-26T09:44:31.366220Z"
    },
    "papermill": {
     "duration": 0.015416,
     "end_time": "2025-06-26T09:44:31.368412",
     "exception": false,
     "start_time": "2025-06-26T09:44:31.352996",
     "status": "completed"
    },
    "tags": []
   },
   "outputs": [
    {
     "data": {
      "application/javascript": [
       "parent.postMessage({\"jupyterEvent\": \"custom.exercise_interaction\", \"data\": {\"outcomeType\": 1, \"valueTowardsCompletion\": 0.25, \"interactionType\": 1, \"questionType\": 1, \"questionId\": \"4_CandySplitting\", \"learnToolsVersion\": \"0.3.5\", \"failureMessage\": \"\", \"exceptionClass\": \"\", \"trace\": \"\"}}, \"*\")"
      ],
      "text/plain": [
       "<IPython.core.display.Javascript object>"
      ]
     },
     "metadata": {},
     "output_type": "display_data"
    },
    {
     "data": {
      "text/markdown": [
       "<span style=\"color:#33cc33\">Correct</span>"
      ],
      "text/plain": [
       "Correct"
      ]
     },
     "metadata": {},
     "output_type": "display_data"
    }
   ],
   "source": [
    "# Variables representing the number of candies collected by alice, bob, and carol\n",
    "alice_candies = 121\n",
    "bob_candies = 77\n",
    "carol_candies = 109\n",
    "\n",
    "# Your code goes here! Replace the right-hand side of this assignment with an expression\n",
    "# involving alice_candies, bob_candies, and carol_candies\n",
    "to_smash = (alice_candies + bob_candies + carol_candies) % 3\n",
    "\n",
    "# Check your answer\n",
    "q4.check()"
   ]
  },
  {
   "cell_type": "code",
   "execution_count": 17,
   "id": "2b956636",
   "metadata": {
    "execution": {
     "iopub.execute_input": "2025-06-26T09:44:31.382535Z",
     "iopub.status.busy": "2025-06-26T09:44:31.381755Z",
     "iopub.status.idle": "2025-06-26T09:44:31.385482Z",
     "shell.execute_reply": "2025-06-26T09:44:31.384828Z"
    },
    "papermill": {
     "duration": 0.012106,
     "end_time": "2025-06-26T09:44:31.386841",
     "exception": false,
     "start_time": "2025-06-26T09:44:31.374735",
     "status": "completed"
    },
    "tags": []
   },
   "outputs": [],
   "source": [
    "#q4.hint()\n",
    "#q4.solution()"
   ]
  },
  {
   "cell_type": "markdown",
   "id": "0b7b98b9",
   "metadata": {
    "papermill": {
     "duration": 0.006005,
     "end_time": "2025-06-26T09:44:31.399151",
     "exception": false,
     "start_time": "2025-06-26T09:44:31.393146",
     "status": "completed"
    },
    "tags": []
   },
   "source": [
    "# Keep Going\n",
    "\n",
    "Next up, you'll **[learn to write new functions and understand functions others write](https://www.kaggle.com/colinmorris/functions-and-getting-help)**. This will make you at least 10 times more productive as a Python programmer. "
   ]
  },
  {
   "cell_type": "markdown",
   "id": "41d25398",
   "metadata": {
    "papermill": {
     "duration": 0.005905,
     "end_time": "2025-06-26T09:44:31.411235",
     "exception": false,
     "start_time": "2025-06-26T09:44:31.405330",
     "status": "completed"
    },
    "tags": []
   },
   "source": [
    "---\n",
    "\n",
    "\n",
    "\n",
    "\n",
    "*Have questions or comments? Visit the [course discussion forum](https://www.kaggle.com/learn/python/discussion) to chat with other learners.*"
   ]
  }
 ],
 "metadata": {
  "kaggle": {
   "accelerator": "none",
   "dataSources": [],
   "isGpuEnabled": false,
   "isInternetEnabled": false,
   "language": "python",
   "sourceType": "notebook"
  },
  "kernelspec": {
   "display_name": "Python 3",
   "language": "python",
   "name": "python3"
  },
  "language_info": {
   "codemirror_mode": {
    "name": "ipython",
    "version": 3
   },
   "file_extension": ".py",
   "mimetype": "text/x-python",
   "name": "python",
   "nbconvert_exporter": "python",
   "pygments_lexer": "ipython3",
   "version": "3.11.11"
  },
  "learntools_metadata": {
   "lesson_index": 0,
   "type": "exercise"
  },
  "papermill": {
   "default_parameters": {},
   "duration": 7.650835,
   "end_time": "2025-06-26T09:44:31.936171",
   "environment_variables": {},
   "exception": null,
   "input_path": "__notebook__.ipynb",
   "output_path": "__notebook__.ipynb",
   "parameters": {},
   "start_time": "2025-06-26T09:44:24.285336",
   "version": "2.6.0"
  }
 },
 "nbformat": 4,
 "nbformat_minor": 5
}
