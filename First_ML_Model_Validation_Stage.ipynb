{
 "cells": [
  {
   "cell_type": "markdown",
   "id": "1929338c",
   "metadata": {
    "papermill": {
     "duration": 0.002825,
     "end_time": "2025-06-20T11:47:53.742094",
     "exception": false,
     "start_time": "2025-06-20T11:47:53.739269",
     "status": "completed"
    },
    "tags": []
   },
   "source": [
    "**This notebook is an exercise in the [Introduction to Machine Learning](https://www.kaggle.com/learn/intro-to-machine-learning) course.  You can reference the tutorial at [this link](https://www.kaggle.com/dansbecker/underfitting-and-overfitting).**\n",
    "\n",
    "---\n"
   ]
  },
  {
   "cell_type": "markdown",
   "id": "340c27fb",
   "metadata": {
    "papermill": {
     "duration": 0.002123,
     "end_time": "2025-06-20T11:47:53.746914",
     "exception": false,
     "start_time": "2025-06-20T11:47:53.744791",
     "status": "completed"
    },
    "tags": []
   },
   "source": [
    "## Recap\n",
    "You've built your first model, and now it's time to optimize the size of the tree to make better predictions. Run this cell to set up your coding environment where the previous step left off."
   ]
  },
  {
   "cell_type": "code",
   "execution_count": 1,
   "id": "96018169",
   "metadata": {
    "execution": {
     "iopub.execute_input": "2025-06-20T11:47:53.752768Z",
     "iopub.status.busy": "2025-06-20T11:47:53.752483Z",
     "iopub.status.idle": "2025-06-20T11:47:57.342992Z",
     "shell.execute_reply": "2025-06-20T11:47:57.341901Z"
    },
    "papermill": {
     "duration": 3.595318,
     "end_time": "2025-06-20T11:47:57.344554",
     "exception": false,
     "start_time": "2025-06-20T11:47:53.749236",
     "status": "completed"
    },
    "tags": []
   },
   "outputs": [
    {
     "name": "stdout",
     "output_type": "stream",
     "text": [
      "Validation MAE: 29,653\n",
      "\n",
      "Setup complete\n"
     ]
    }
   ],
   "source": [
    "# Code you have previously used to load data\n",
    "import pandas as pd\n",
    "from sklearn.metrics import mean_absolute_error\n",
    "from sklearn.model_selection import train_test_split\n",
    "from sklearn.tree import DecisionTreeRegressor\n",
    "\n",
    "\n",
    "# Path of the file to read\n",
    "iowa_file_path = '../input/home-data-for-ml-course/train.csv'\n",
    "\n",
    "home_data = pd.read_csv(iowa_file_path)\n",
    "# Create target object and call it y\n",
    "y = home_data.SalePrice\n",
    "# Create X\n",
    "features = ['LotArea', 'YearBuilt', '1stFlrSF', '2ndFlrSF', 'FullBath', 'BedroomAbvGr', 'TotRmsAbvGrd']\n",
    "X = home_data[features]\n",
    "\n",
    "# Split into validation and training data\n",
    "train_X, val_X, train_y, val_y = train_test_split(X, y, random_state=1)\n",
    "\n",
    "# Specify Model\n",
    "iowa_model = DecisionTreeRegressor(random_state=1)\n",
    "# Fit Model\n",
    "iowa_model.fit(train_X, train_y)\n",
    "\n",
    "# Make validation predictions and calculate mean absolute error\n",
    "val_predictions = iowa_model.predict(val_X)\n",
    "val_mae = mean_absolute_error(val_predictions, val_y)\n",
    "print(\"Validation MAE: {:,.0f}\".format(val_mae))\n",
    "\n",
    "# Set up code checking\n",
    "from learntools.core import binder\n",
    "binder.bind(globals())\n",
    "from learntools.machine_learning.ex5 import *\n",
    "print(\"\\nSetup complete\")"
   ]
  },
  {
   "cell_type": "markdown",
   "id": "2744c9f7",
   "metadata": {
    "papermill": {
     "duration": 0.002247,
     "end_time": "2025-06-20T11:47:57.349307",
     "exception": false,
     "start_time": "2025-06-20T11:47:57.347060",
     "status": "completed"
    },
    "tags": []
   },
   "source": [
    "# Exercises\n",
    "You could write the function `get_mae` yourself. For now, we'll supply it. This is the same function you read about in the previous lesson. Just run the cell below."
   ]
  },
  {
   "cell_type": "code",
   "execution_count": 2,
   "id": "c055abbc",
   "metadata": {
    "execution": {
     "iopub.execute_input": "2025-06-20T11:47:57.355203Z",
     "iopub.status.busy": "2025-06-20T11:47:57.354626Z",
     "iopub.status.idle": "2025-06-20T11:47:57.359068Z",
     "shell.execute_reply": "2025-06-20T11:47:57.358392Z"
    },
    "papermill": {
     "duration": 0.009204,
     "end_time": "2025-06-20T11:47:57.360742",
     "exception": false,
     "start_time": "2025-06-20T11:47:57.351538",
     "status": "completed"
    },
    "tags": []
   },
   "outputs": [],
   "source": [
    "def get_mae(max_leaf_nodes, train_X, val_X, train_y, val_y):\n",
    "    model = DecisionTreeRegressor(max_leaf_nodes=max_leaf_nodes, random_state=0)\n",
    "    model.fit(train_X, train_y)\n",
    "    preds_val = model.predict(val_X)\n",
    "    mae = mean_absolute_error(val_y, preds_val)\n",
    "    return(mae)"
   ]
  },
  {
   "cell_type": "markdown",
   "id": "afe1a856",
   "metadata": {
    "papermill": {
     "duration": 0.002141,
     "end_time": "2025-06-20T11:47:57.365468",
     "exception": false,
     "start_time": "2025-06-20T11:47:57.363327",
     "status": "completed"
    },
    "tags": []
   },
   "source": [
    "## Step 1: Compare Different Tree Sizes\n",
    "Write a loop that tries the following values for *max_leaf_nodes* from a set of possible values.\n",
    "\n",
    "Call the *get_mae* function on each value of max_leaf_nodes. Store the output in some way that allows you to select the value of `max_leaf_nodes` that gives the most accurate model on your data."
   ]
  },
  {
   "cell_type": "code",
   "execution_count": 3,
   "id": "37d29277",
   "metadata": {
    "execution": {
     "iopub.execute_input": "2025-06-20T11:47:57.371849Z",
     "iopub.status.busy": "2025-06-20T11:47:57.371014Z",
     "iopub.status.idle": "2025-06-20T11:47:57.412917Z",
     "shell.execute_reply": "2025-06-20T11:47:57.412098Z"
    },
    "papermill": {
     "duration": 0.046492,
     "end_time": "2025-06-20T11:47:57.414256",
     "exception": false,
     "start_time": "2025-06-20T11:47:57.367764",
     "status": "completed"
    },
    "tags": []
   },
   "outputs": [
    {
     "data": {
      "application/javascript": [
       "parent.postMessage({\"jupyterEvent\": \"custom.exercise_interaction\", \"data\": {\"outcomeType\": 1, \"valueTowardsCompletion\": 0.5, \"interactionType\": 1, \"questionType\": 1, \"questionId\": \"1_BestTreeSize\", \"learnToolsVersion\": \"0.3.5\", \"failureMessage\": \"\", \"exceptionClass\": \"\", \"trace\": \"\"}}, \"*\")"
      ],
      "text/plain": [
       "<IPython.core.display.Javascript object>"
      ]
     },
     "metadata": {},
     "output_type": "display_data"
    },
    {
     "data": {
      "text/markdown": [
       "<span style=\"color:#33cc33\">Correct</span>"
      ],
      "text/plain": [
       "Correct"
      ]
     },
     "metadata": {},
     "output_type": "display_data"
    }
   ],
   "source": [
    "candidate_max_leaf_nodes = [5, 25, 50, 100, 250, 500]\n",
    "# Write loop to find the ideal tree size from candidate_max_leaf_nodes\n",
    "scores = {leaf_size: get_mae(leaf_size, train_X, val_X, train_y, val_y) for leaf_size in candidate_max_leaf_nodes}\n",
    "# Store the best value of max_leaf_nodes (it will be either 5, 25, 50, 100, 250 or 500)\n",
    "best_tree_size = min(scores, key=scores.get)\n",
    "\n",
    "# Check your answer\n",
    "step_1.check()"
   ]
  },
  {
   "cell_type": "code",
   "execution_count": 4,
   "id": "8b496747",
   "metadata": {
    "execution": {
     "iopub.execute_input": "2025-06-20T11:47:57.421261Z",
     "iopub.status.busy": "2025-06-20T11:47:57.420614Z",
     "iopub.status.idle": "2025-06-20T11:47:57.424519Z",
     "shell.execute_reply": "2025-06-20T11:47:57.423608Z"
    },
    "papermill": {
     "duration": 0.009031,
     "end_time": "2025-06-20T11:47:57.425965",
     "exception": false,
     "start_time": "2025-06-20T11:47:57.416934",
     "status": "completed"
    },
    "tags": []
   },
   "outputs": [],
   "source": [
    "# The lines below will show you a hint or the solution.\n",
    "# step_1.hint() \n",
    "# step_1.solution()"
   ]
  },
  {
   "cell_type": "markdown",
   "id": "a8cde379",
   "metadata": {
    "papermill": {
     "duration": 0.002369,
     "end_time": "2025-06-20T11:47:57.431049",
     "exception": false,
     "start_time": "2025-06-20T11:47:57.428680",
     "status": "completed"
    },
    "tags": []
   },
   "source": [
    "## Step 2: Fit Model Using All Data\n",
    "You know the best tree size. If you were going to deploy this model in practice, you would make it even more accurate by using all of the data and keeping that tree size.  That is, you don't need to hold out the validation data now that you've made all your modeling decisions."
   ]
  },
  {
   "cell_type": "code",
   "execution_count": 5,
   "id": "95ba9083",
   "metadata": {
    "execution": {
     "iopub.execute_input": "2025-06-20T11:47:57.437177Z",
     "iopub.status.busy": "2025-06-20T11:47:57.436866Z",
     "iopub.status.idle": "2025-06-20T11:47:57.450604Z",
     "shell.execute_reply": "2025-06-20T11:47:57.449704Z"
    },
    "papermill": {
     "duration": 0.018426,
     "end_time": "2025-06-20T11:47:57.452005",
     "exception": false,
     "start_time": "2025-06-20T11:47:57.433579",
     "status": "completed"
    },
    "tags": []
   },
   "outputs": [
    {
     "data": {
      "application/javascript": [
       "parent.postMessage({\"jupyterEvent\": \"custom.exercise_interaction\", \"data\": {\"outcomeType\": 1, \"valueTowardsCompletion\": 0.5, \"interactionType\": 1, \"questionType\": 2, \"questionId\": \"2_FitModelWithAllData\", \"learnToolsVersion\": \"0.3.5\", \"failureMessage\": \"\", \"exceptionClass\": \"\", \"trace\": \"\"}}, \"*\")"
      ],
      "text/plain": [
       "<IPython.core.display.Javascript object>"
      ]
     },
     "metadata": {},
     "output_type": "display_data"
    },
    {
     "data": {
      "text/markdown": [
       "<span style=\"color:#33cc33\">Correct</span>"
      ],
      "text/plain": [
       "Correct"
      ]
     },
     "metadata": {},
     "output_type": "display_data"
    }
   ],
   "source": [
    "# Fill in argument to make optimal size and uncomment\n",
    "final_model = DecisionTreeRegressor(max_leaf_nodes = best_tree_size, random_state = 1)\n",
    "\n",
    "# fit the final model and uncomment the next two lines\n",
    "final_model.fit(X,y)\n",
    "\n",
    "# Check your answer\n",
    "step_2.check()"
   ]
  },
  {
   "cell_type": "code",
   "execution_count": 6,
   "id": "ad7f6763",
   "metadata": {
    "execution": {
     "iopub.execute_input": "2025-06-20T11:47:57.458717Z",
     "iopub.status.busy": "2025-06-20T11:47:57.458435Z",
     "iopub.status.idle": "2025-06-20T11:47:57.462391Z",
     "shell.execute_reply": "2025-06-20T11:47:57.461519Z"
    },
    "papermill": {
     "duration": 0.008751,
     "end_time": "2025-06-20T11:47:57.463656",
     "exception": false,
     "start_time": "2025-06-20T11:47:57.454905",
     "status": "completed"
    },
    "tags": []
   },
   "outputs": [],
   "source": [
    "# step_2.hint()\n",
    "# step_2.solution()"
   ]
  },
  {
   "cell_type": "markdown",
   "id": "181447eb",
   "metadata": {
    "papermill": {
     "duration": 0.002404,
     "end_time": "2025-06-20T11:47:57.468954",
     "exception": false,
     "start_time": "2025-06-20T11:47:57.466550",
     "status": "completed"
    },
    "tags": []
   },
   "source": [
    "You've tuned this model and improved your results. But we are still using Decision Tree models, which are not very sophisticated by modern machine learning standards. In the next step you will learn to use Random Forests to improve your models even more.\n",
    "\n",
    "# Keep Going\n",
    "\n",
    "You are ready for **[Random Forests](https://www.kaggle.com/dansbecker/random-forests).**\n"
   ]
  },
  {
   "cell_type": "markdown",
   "id": "e2f9022e",
   "metadata": {
    "papermill": {
     "duration": 0.002225,
     "end_time": "2025-06-20T11:47:57.473721",
     "exception": false,
     "start_time": "2025-06-20T11:47:57.471496",
     "status": "completed"
    },
    "tags": []
   },
   "source": [
    "---\n",
    "\n",
    "\n",
    "\n",
    "\n",
    "*Have questions or comments? Visit the [course discussion forum](https://www.kaggle.com/learn/intro-to-machine-learning/discussion) to chat with other learners.*"
   ]
  }
 ],
 "metadata": {
  "kaggle": {
   "accelerator": "none",
   "dataSources": [
    {
     "databundleVersionId": 111096,
     "sourceId": 10211,
     "sourceType": "competition"
    },
    {
     "datasetId": 11167,
     "sourceId": 15520,
     "sourceType": "datasetVersion"
    },
    {
     "datasetId": 2709,
     "sourceId": 38454,
     "sourceType": "datasetVersion"
    }
   ],
   "isGpuEnabled": false,
   "isInternetEnabled": false,
   "language": "python",
   "sourceType": "notebook"
  },
  "kernelspec": {
   "display_name": "Python 3",
   "language": "python",
   "name": "python3"
  },
  "language_info": {
   "codemirror_mode": {
    "name": "ipython",
    "version": 3
   },
   "file_extension": ".py",
   "mimetype": "text/x-python",
   "name": "python",
   "nbconvert_exporter": "python",
   "pygments_lexer": "ipython3",
   "version": "3.11.11"
  },
  "papermill": {
   "default_parameters": {},
   "duration": 8.786176,
   "end_time": "2025-06-20T11:47:58.096695",
   "environment_variables": {},
   "exception": null,
   "input_path": "__notebook__.ipynb",
   "output_path": "__notebook__.ipynb",
   "parameters": {},
   "start_time": "2025-06-20T11:47:49.310519",
   "version": "2.6.0"
  }
 },
 "nbformat": 4,
 "nbformat_minor": 5
}
